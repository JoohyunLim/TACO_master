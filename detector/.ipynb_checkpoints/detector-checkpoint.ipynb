{
 "cells": [
  {
   "cell_type": "markdown",
   "metadata": {},
   "source": [
    "# Mask R-CNN and Dataset Processing Inspector\n",
    "\n",
    "Inspect and visualize data loading, pre-processing code and MASK R-CNN configuration."
   ]
  },
  {
   "cell_type": "code",
   "execution_count": 1,
   "metadata": {},
   "outputs": [
    {
     "name": "stderr",
     "output_type": "stream",
     "text": [
      "C:\\Users\\dus16\\anaconda3\\envs\\env1\\lib\\site-packages\\tensorflow\\python\\framework\\dtypes.py:516: FutureWarning: Passing (type, 1) or '1type' as a synonym of type is deprecated; in a future version of numpy, it will be understood as (type, (1,)) / '(1,)type'.\n",
      "  _np_qint8 = np.dtype([(\"qint8\", np.int8, 1)])\n",
      "C:\\Users\\dus16\\anaconda3\\envs\\env1\\lib\\site-packages\\tensorflow\\python\\framework\\dtypes.py:517: FutureWarning: Passing (type, 1) or '1type' as a synonym of type is deprecated; in a future version of numpy, it will be understood as (type, (1,)) / '(1,)type'.\n",
      "  _np_quint8 = np.dtype([(\"quint8\", np.uint8, 1)])\n",
      "C:\\Users\\dus16\\anaconda3\\envs\\env1\\lib\\site-packages\\tensorflow\\python\\framework\\dtypes.py:518: FutureWarning: Passing (type, 1) or '1type' as a synonym of type is deprecated; in a future version of numpy, it will be understood as (type, (1,)) / '(1,)type'.\n",
      "  _np_qint16 = np.dtype([(\"qint16\", np.int16, 1)])\n",
      "C:\\Users\\dus16\\anaconda3\\envs\\env1\\lib\\site-packages\\tensorflow\\python\\framework\\dtypes.py:519: FutureWarning: Passing (type, 1) or '1type' as a synonym of type is deprecated; in a future version of numpy, it will be understood as (type, (1,)) / '(1,)type'.\n",
      "  _np_quint16 = np.dtype([(\"quint16\", np.uint16, 1)])\n",
      "C:\\Users\\dus16\\anaconda3\\envs\\env1\\lib\\site-packages\\tensorflow\\python\\framework\\dtypes.py:520: FutureWarning: Passing (type, 1) or '1type' as a synonym of type is deprecated; in a future version of numpy, it will be understood as (type, (1,)) / '(1,)type'.\n",
      "  _np_qint32 = np.dtype([(\"qint32\", np.int32, 1)])\n",
      "C:\\Users\\dus16\\anaconda3\\envs\\env1\\lib\\site-packages\\tensorflow\\python\\framework\\dtypes.py:525: FutureWarning: Passing (type, 1) or '1type' as a synonym of type is deprecated; in a future version of numpy, it will be understood as (type, (1,)) / '(1,)type'.\n",
      "  np_resource = np.dtype([(\"resource\", np.ubyte, 1)])\n",
      "C:\\Users\\dus16\\anaconda3\\envs\\env1\\lib\\site-packages\\tensorboard\\compat\\tensorflow_stub\\dtypes.py:541: FutureWarning: Passing (type, 1) or '1type' as a synonym of type is deprecated; in a future version of numpy, it will be understood as (type, (1,)) / '(1,)type'.\n",
      "  _np_qint8 = np.dtype([(\"qint8\", np.int8, 1)])\n",
      "C:\\Users\\dus16\\anaconda3\\envs\\env1\\lib\\site-packages\\tensorboard\\compat\\tensorflow_stub\\dtypes.py:542: FutureWarning: Passing (type, 1) or '1type' as a synonym of type is deprecated; in a future version of numpy, it will be understood as (type, (1,)) / '(1,)type'.\n",
      "  _np_quint8 = np.dtype([(\"quint8\", np.uint8, 1)])\n",
      "C:\\Users\\dus16\\anaconda3\\envs\\env1\\lib\\site-packages\\tensorboard\\compat\\tensorflow_stub\\dtypes.py:543: FutureWarning: Passing (type, 1) or '1type' as a synonym of type is deprecated; in a future version of numpy, it will be understood as (type, (1,)) / '(1,)type'.\n",
      "  _np_qint16 = np.dtype([(\"qint16\", np.int16, 1)])\n",
      "C:\\Users\\dus16\\anaconda3\\envs\\env1\\lib\\site-packages\\tensorboard\\compat\\tensorflow_stub\\dtypes.py:544: FutureWarning: Passing (type, 1) or '1type' as a synonym of type is deprecated; in a future version of numpy, it will be understood as (type, (1,)) / '(1,)type'.\n",
      "  _np_quint16 = np.dtype([(\"quint16\", np.uint16, 1)])\n",
      "C:\\Users\\dus16\\anaconda3\\envs\\env1\\lib\\site-packages\\tensorboard\\compat\\tensorflow_stub\\dtypes.py:545: FutureWarning: Passing (type, 1) or '1type' as a synonym of type is deprecated; in a future version of numpy, it will be understood as (type, (1,)) / '(1,)type'.\n",
      "  _np_qint32 = np.dtype([(\"qint32\", np.int32, 1)])\n",
      "C:\\Users\\dus16\\anaconda3\\envs\\env1\\lib\\site-packages\\tensorboard\\compat\\tensorflow_stub\\dtypes.py:550: FutureWarning: Passing (type, 1) or '1type' as a synonym of type is deprecated; in a future version of numpy, it will be understood as (type, (1,)) / '(1,)type'.\n",
      "  np_resource = np.dtype([(\"resource\", np.ubyte, 1)])\n",
      "Using TensorFlow backend.\n"
     ]
    }
   ],
   "source": [
    "import os\n",
    "import sys\n",
    "import itertools\n",
    "import math\n",
    "import logging\n",
    "import json\n",
    "import re\n",
    "import random\n",
    "from collections import OrderedDict\n",
    "import numpy as np\n",
    "import matplotlib\n",
    "matplotlib.rcParams['backend']='TkAgg'\n",
    "import matplotlib.pyplot as plt\n",
    "import matplotlib.patches as patches\n",
    "import matplotlib.lines as lines\n",
    "from matplotlib.patches import Polygon\n",
    "\n",
    "# Root directory of the project\n",
    "ROOT_DIR = os.path.abspath(\".\")\n",
    "\n",
    "import utils\n",
    "import visualize\n",
    "from visualize import display_images\n",
    "import model as modellib\n",
    "from config import Config\n",
    "from model import log\n",
    "\n",
    "%matplotlib inline"
   ]
  },
  {
   "cell_type": "markdown",
   "metadata": {},
   "source": [
    "## Load Dataset"
   ]
  },
  {
   "cell_type": "code",
   "execution_count": 2,
   "metadata": {},
   "outputs": [
    {
     "name": "stdout",
     "output_type": "stream",
     "text": [
      "creating index...\n",
      "index created!\n",
      "Number of images used: 1500\n",
      "Class Count: 2\n",
      "  0. BG                                                \n",
      "  1. Litter                                            \n"
     ]
    }
   ],
   "source": [
    "import csv\n",
    "import dataset\n",
    "\n",
    "# Load class map - these tables map the original TACO classes to your desired class system\n",
    "# and allow you to discard classes that you don't want to include.\n",
    "class_map = {}\n",
    "with open(\"./taco_config/map_1.csv\") as csvfile:\n",
    "    reader = csv.reader(csvfile)\n",
    "    class_map = {row[0]:row[1] for row in reader}\n",
    "\n",
    "# Load full dataset or a subset\n",
    "TACO_DIR = \"../data\"\n",
    "round = None # Split number: If None, loads full dataset else if int > 0 selects split no \n",
    "subset = \"train\" # Used only when round !=None, Options: ('train','val','test') to select respective subset\n",
    "dataset = dataset.Taco()\n",
    "taco = dataset.load_taco(TACO_DIR, round, subset, class_map=class_map, return_taco=True)\n",
    "\n",
    "# Must call before using the dataset\n",
    "dataset.prepare()\n",
    "\n",
    "print(\"Class Count: {}\".format(dataset.num_classes))\n",
    "for i, info in enumerate(dataset.class_info):\n",
    "    print(\"{:3}. {:50}\".format(i, info['name']))"
   ]
  },
  {
   "cell_type": "markdown",
   "metadata": {},
   "source": [
    "## Visualize class balance"
   ]
  },
  {
   "cell_type": "code",
   "execution_count": 3,
   "metadata": {},
   "outputs": [],
   "source": [
    "import seaborn as sns\n",
    "import pandas as pd\n",
    "\n",
    "# Count annotations\n",
    "cat_histogram = np.zeros(dataset.num_classes,dtype=int)\n",
    "class_names = []\n",
    "for i, info in enumerate(dataset.class_info):\n",
    "    ann_per_cat = taco.getAnnIds(catIds=i, iscrowd=None)\n",
    "    cat_histogram[i] = len(ann_per_cat)\n",
    "    class_names.append(info['name'])\n",
    "\n",
    "# Initialize the matplotlib figure\n",
    "_, ax = plt.subplots(figsize=(5,1*dataset.num_classes))\n",
    "\n",
    "# Convert to DataFrame\n",
    "d ={'Categories': class_names, 'Number of annotations': cat_histogram}\n",
    "df = pd.DataFrame(d)\n",
    "df = df.sort_values('Number of annotations', 0, False)\n",
    "\n",
    "# Plot the histogram\n",
    "sns.set_color_codes(\"pastel\")\n",
    "sns.set(style=\"whitegrid\")\n",
    "plot_1 = sns.barplot(x=\"Number of annotations\", y=\"Categories\", data=df,\n",
    "            label=\"Total\", color=\"b\")\n",
    "\n",
    "fig = plot_1.get_figure()"
   ]
  },
  {
   "cell_type": "markdown",
   "metadata": {},
   "source": [
    "# Image stats\n",
    "\n",
    "Before deciding your network configuration, it's a good idea look into the following statistics"
   ]
  },
  {
   "cell_type": "code",
   "execution_count": 4,
   "metadata": {},
   "outputs": [],
   "source": [
    "# Parsing image shapes (resolutions)\n",
    "widths = []\n",
    "heights = []\n",
    "shape_freqs = []\n",
    "img_shapes_keys = {}\n",
    "for img in taco.dataset['images']:\n",
    "    key = str(img['width'])+'-'+str(img['height'])\n",
    "    if key in img_shapes_keys:\n",
    "        shape_id = img_shapes_keys[key]\n",
    "        shape_freqs[shape_id] += 1\n",
    "    else:\n",
    "        img_shapes_keys[key] = len(widths)\n",
    "        widths.append(img['width'])\n",
    "        heights.append(img['height'])\n",
    "        shape_freqs.append(1)\n",
    "\n",
    "d ={'Image width (px)': widths, 'Image height (px)': heights, '# images': shape_freqs}\n",
    "df = pd.DataFrame(d)\n",
    "cmap = sns.cubehelix_palette(dark=.1, light=.6, as_cmap=True)\n",
    "plot = sns.scatterplot(x=\"Image width (px)\", y=\"Image height (px)\", size='# images', hue=\"# images\", palette = cmap,data=df)\n",
    "plot = plot.set_title('Number of images per image shape',fontsize=15)"
   ]
  },
  {
   "cell_type": "code",
   "execution_count": 5,
   "metadata": {},
   "outputs": [
    {
     "name": "stderr",
     "output_type": "stream",
     "text": [
      "C:\\Users\\dus16\\anaconda3\\envs\\env1\\lib\\site-packages\\seaborn\\distributions.py:2557: FutureWarning: `distplot` is a deprecated function and will be removed in a future version. Please adapt your code to use either `displot` (a figure-level function with similar flexibility) or `histplot` (an axes-level function for histograms).\n",
      "  warnings.warn(msg, FutureWarning)\n"
     ]
    },
    {
     "name": "stdout",
     "output_type": "stream",
     "text": [
      "Mean number of annotations per image: 3.1893333333333334\n"
     ]
    }
   ],
   "source": [
    "nr_annotation_per_image = []\n",
    "for img in taco.dataset['images']:\n",
    "    annIds = taco.getAnnIds(imgIds=img['id'], catIds=[])\n",
    "    nr_annotation_per_image.append(len(annIds))\n",
    "\n",
    "plt.figure(figsize=(20,4))\n",
    "ax = sns.distplot(nr_annotation_per_image,kde=False,bins=100)\n",
    "ax.set_yscale('log')\n",
    "ax.set(xlabel='Number of annotations per image', ylabel='Image Count')\n",
    "\n",
    "print('Mean number of annotations per image:',np.mean(nr_annotation_per_image))"
   ]
  },
  {
   "cell_type": "code",
   "execution_count": 6,
   "metadata": {},
   "outputs": [
    {
     "name": "stdout",
     "output_type": "stream",
     "text": [
      "According to MS COCO Evaluation. This dataset has:\n",
      "1838 small objects (area<32*32 px)\n",
      "2742 medium objects (area<96*96 px)\n",
      "3352 large objects (area>96*96 px)\n",
      "Number of bboxes smaller than 1024: 4784\n",
      "Number of bboxes larger than 1024: 0\n",
      "Number of missing annotations 660\n"
     ]
    }
   ],
   "source": [
    "bbox_widths = []\n",
    "bbox_heights = []\n",
    "obj_areas_sqrt = []\n",
    "obj_areas_sqrt_fraction = []\n",
    "bbox_aspect_ratio = []\n",
    "max_image_dim = 1024\n",
    "\n",
    "for ann in taco.dataset['annotations']:\n",
    "    \n",
    "    imgs = taco.loadImgs(ann['image_id'])\n",
    "    \n",
    "    resize_scale = max_image_dim/max(imgs[0]['width'], imgs[0]['height'])\n",
    "    # Uncomment this to work on original image size\n",
    "#     resize_scale = 1\n",
    "    \n",
    "    bbox_widths.append(ann['bbox'][2]*resize_scale)\n",
    "    bbox_heights.append(ann['bbox'][3]*resize_scale)\n",
    "    obj_area = ann['bbox'][2]*ann['bbox'][3]*resize_scale**2 # ann['area']\n",
    "    obj_areas_sqrt.append(np.sqrt(obj_area))\n",
    "        \n",
    "    img_area = imgs[0]['width']*imgs[0]['height']*resize_scale**2\n",
    "    obj_areas_sqrt_fraction.append(np.sqrt(obj_area/img_area))\n",
    "    \n",
    "print('According to MS COCO Evaluation. This dataset has:')\n",
    "print(np.sum(np.array(obj_areas_sqrt)<32), 'small objects (area<32*32 px)')\n",
    "print(np.sum(np.array(obj_areas_sqrt)<64), 'medium objects (area<96*96 px)')\n",
    "print(np.sum(np.array(obj_areas_sqrt)<96), 'large objects (area>96*96 px)')\n",
    "    \n",
    "# d ={'Bbox width (px)': bbox_widths, 'Bbox height (px)': bbox_heights, 'area': seg_areas}\n",
    "# df = pd.DataFrame(d)\n",
    "\n",
    "plt.figure(figsize=(20,4))\n",
    "ax = sns.distplot(obj_areas_sqrt_fraction,kde=False, bins=200)\n",
    "ax.set_yscale('log')\n",
    "ax = ax.set(xlabel=r'Annotation relative size as $\\sqrt{ Bbox\\_area \\ /  \\ Image\\_area}$', ylabel='Number of annotations')\n",
    "\n",
    "plt.figure(figsize=(20,4))\n",
    "ax = sns.distplot(np.maximum(np.array(bbox_widths),np.array(bbox_heights)),kde=False, bins=200)\n",
    "ax = ax.set(xlabel='Maximum bbox dimension', ylabel='Number of annotations')\n",
    "\n",
    "import colorsys\n",
    "fig, ax = plt.subplots(1, 1, figsize=(5,5))\n",
    "\n",
    "# Plotting bbox dims\n",
    "d ={'BBox width (px)': bbox_widths, 'BBox height (px)': bbox_heights}\n",
    "df = pd.DataFrame(d)\n",
    "cmap = sns.cubehelix_palette(dark=.1, light=.6, as_cmap=True)\n",
    "ax = sns.scatterplot(x=\"BBox width (px)\", y=\"BBox height (px)\", palette = cmap,data=df)\n",
    "\n",
    "print('Number of bboxes smaller than 1024:',np.sum(np.array(bbox_widths)<1024))\n",
    "print('Number of bboxes larger than 1024:',np.sum(np.array(bbox_widths)>1024))\n",
    "\n",
    "# anchors = [(32,32),(64,64),(128,128),(256,256),(512,512)]\n",
    "scales, ratios = np.meshgrid(np.array([16,32,64,128,256,512]), np.array([0.5,1,2]))\n",
    "scales = scales.flatten()\n",
    "ratios = ratios.flatten()\n",
    "# Enumerate heights and widths from scales and ratios\n",
    "anchor_heights = scales / np.sqrt(ratios)\n",
    "anchor_widths = scales * np.sqrt(ratios)\n",
    "\n",
    "IoUs = []\n",
    "for i in range(len(bbox_widths)):\n",
    "    bbox_area = bbox_widths[i]*bbox_heights[i]\n",
    "    IoU_max = 0.0\n",
    "    for j in range(len(anchor_heights)):\n",
    "        anchor_area = anchor_heights[j]*anchor_widths[j]\n",
    "        intersection_area = min(anchor_widths[j],bbox_widths[i])*min(anchor_heights[j], bbox_heights[i])\n",
    "        IoU = intersection_area / (bbox_area + anchor_area - intersection_area)\n",
    "        if IoU>0.5:\n",
    "            IoU_max = IoU\n",
    "    IoUs.append(IoU_max)\n",
    "    \n",
    "print('Number of missing annotations', np.sum(np.array(IoUs)==0.0))\n",
    "  \n",
    "# Plotting bbox dims\n",
    "d ={'BBox width (px)': bbox_widths, 'BBox height (px)': bbox_heights, 'IoU': IoUs}\n",
    "df = pd.DataFrame(d)\n",
    "cmap = sns.cubehelix_palette(dark=.1, light=.6, as_cmap=True)\n",
    "ax = sns.scatterplot(x=\"BBox width (px)\", y=\"BBox height (px)\", hue = 'IoU',data=df)"
   ]
  },
  {
   "cell_type": "markdown",
   "metadata": {},
   "source": [
    "## Mask-RCNN Configuration"
   ]
  },
  {
   "cell_type": "code",
   "execution_count": 7,
   "metadata": {},
   "outputs": [],
   "source": [
    "class TacoTestConfig(Config):\n",
    "    NAME = \"taco\"\n",
    "    GPU_COUNT = 1\n",
    "    IMAGES_PER_GPU = 1\n",
    "    DETECTION_MIN_CONFIDENCE = 0.3\n",
    "    NUM_CLASSES = dataset.num_classes\n",
    "#     IMAGE_MAX_DIM = 1024\n",
    "#     IMAGE_MIN_DIM = 1024\n",
    "#     IMAGE_RESIZE_MODE = \"square\"\n",
    "config = TacoTestConfig()"
   ]
  },
  {
   "cell_type": "markdown",
   "metadata": {},
   "source": [
    "## Image Cropping"
   ]
  },
  {
   "cell_type": "code",
   "execution_count": 8,
   "metadata": {},
   "outputs": [
    {
     "name": "stdout",
     "output_type": "stream",
     "text": [
      "Image original shape: (2448, 3264, 3)\n",
      "Bbox original shape: 1128 797 1740 1411\n"
     ]
    }
   ],
   "source": [
    "from random import seed\n",
    "from random import randint\n",
    "import skimage.io\n",
    "import skimage.transform\n",
    "\n",
    "seed(1)\n",
    "\n",
    "# Load random image\n",
    "image_id = np.random.choice(len(dataset.image_ids))\n",
    "image_ori = dataset.load_image(image_id)\n",
    "masks_ori, _ = dataset.load_mask(image_id)\n",
    "\n",
    "image_dtype = image_ori.dtype\n",
    "nr_annotations = np.shape(masks_ori)[-1]\n",
    "\n",
    "bboxes = utils.extract_bboxes(masks_ori)\n",
    "\n",
    "# Initialize the matplotlib figure\n",
    "fig, ax = plt.subplots(nr_annotations+1, 1, figsize=(10,10*(nr_annotations+1)))\n",
    "ax[0].imshow(image_ori)\n",
    "\n",
    "i=0\n",
    "for bbox_id in range(len(bboxes)):\n",
    "    \n",
    "    image = image_ori\n",
    "    masks = masks_ori\n",
    "    \n",
    "    bboxes_cpy = bboxes\n",
    "    y1, x1, y2, x2 = bboxes_cpy[bbox_id]\n",
    "    h, w = image.shape[:2]\n",
    "    \n",
    "    bbox_width = x2-x1\n",
    "    bbox_height = y2-y1\n",
    "    \n",
    "    img_max_dim = max(h,w)\n",
    "    bbox_max_dim = max(bbox_width,bbox_height)\n",
    "    \n",
    "    print('Image original shape:',image.shape)\n",
    "    print('Bbox original shape:',y1, x1, y2, x2)\n",
    "    \n",
    "    bbox_max_dim_threshold_4_scaling = config.IMAGE_MAX_DIM*0.8\n",
    "    \n",
    "    # If bbox is big enough or too big, downsize full image\n",
    "    if bbox_max_dim > bbox_max_dim_threshold_4_scaling:\n",
    "        \n",
    "        # Rescale\n",
    "        downscale_at_least = min(1.,config.IMAGE_MAX_DIM/bbox_max_dim)\n",
    "        downscale_min = config.IMAGE_MAX_DIM/img_max_dim\n",
    "        \n",
    "        scale = random.random()*(downscale_at_least-downscale_min)+downscale_min\n",
    "        \n",
    "        print('Downscaling image by',scale)\n",
    "        print(\"Scale interval:\", downscale_min, downscale_at_least)\n",
    "        \n",
    "        # Actually scale Image   \n",
    "        image = skimage.transform.resize(image, (np.round(h * scale), np.round(w * scale)),order=1,\n",
    "                                         mode=\"constant\", preserve_range=True)\n",
    "    \n",
    "        h, w = image.shape[:2]\n",
    "        img_max_dim = max(h,w)\n",
    "    \n",
    "        # Padding\n",
    "        top_pad = (img_max_dim - h) // 2\n",
    "        bottom_pad = img_max_dim - h - top_pad\n",
    "        left_pad = (img_max_dim - w) // 2\n",
    "        right_pad = img_max_dim - w - left_pad\n",
    "        padding = [(top_pad, bottom_pad), (left_pad, right_pad), (0, 0)]\n",
    "        image = np.pad(image, padding, mode='constant', constant_values=0).astype(image_dtype)\n",
    "        window = (top_pad, left_pad, h + top_pad, w + left_pad)\n",
    "        \n",
    "        # Adjust mask and other vars\n",
    "        masks = utils.resize_mask(masks, scale, padding)\n",
    "        bboxes_cpy = utils.extract_bboxes(masks)\n",
    "        y1, x1, y2, x2 = bboxes_cpy[bbox_id]\n",
    "        h, w = image.shape[:2]\n",
    "        \n",
    "        print('Image resized shape:',image.shape)\n",
    "    \n",
    "    # Select crop around target annotation\n",
    "    x0_min = max(x2-config.IMAGE_MAX_DIM,0) \n",
    "    x0_max = min(x1,w-config.IMAGE_MAX_DIM)\n",
    "    x0 = randint(x0_min, x0_max)\n",
    "    y0_min = max(y2-config.IMAGE_MAX_DIM,0) \n",
    "    y0_max = min(y1,h-config.IMAGE_MAX_DIM)\n",
    "    y0 = randint(y0_min, y0_max)\n",
    "    \n",
    "    \"\"\"\n",
    "    if padding:\n",
    "        max_dim = config.IMAGE_MAX_DIM\n",
    "        window = (max(top_pad,y0)-y0, max(left_pad,x0)-x0, min(window[2],y0+max_dim)-y0, min(window[3],x0+max_dim)-x0)\n",
    "        print(window)\n",
    "    \"\"\"\n",
    "    \n",
    "    # Crop\n",
    "    crop = (y0, x0, config.IMAGE_MAX_DIM, config.IMAGE_MAX_DIM)\n",
    "    image = image[y0:y0 + config.IMAGE_MAX_DIM, x0:x0 + config.IMAGE_MAX_DIM]\n",
    "    masks = masks[y0:y0 + config.IMAGE_MAX_DIM, x0:x0 + config.IMAGE_MAX_DIM]\n",
    "    ax[i+1].imshow(image)\n",
    "    ax[i+1].axis('off')\n",
    "    i+=1"
   ]
  },
  {
   "cell_type": "markdown",
   "metadata": {},
   "source": [
    "## Data Augmentation Demo"
   ]
  },
  {
   "cell_type": "code",
   "execution_count": 18,
   "metadata": {},
   "outputs": [
    {
     "name": "stdout",
     "output_type": "stream",
     "text": [
      "This may take some time, as we are working with the original image size...\n"
     ]
    }
   ],
   "source": [
    "import imgaug as ia\n",
    "from imgaug import augmenters as iaa\n",
    "import imageio\n",
    "\n",
    "#ia.seed(1)\n",
    "nr_augmentations = 10\n",
    "\n",
    "# Load random image\n",
    "# image_id = np.random.choice(len(dataset.image_ids))\n",
    "# image = dataset.load_image(image_id)\n",
    "# masks, _ = dataset.load_mask(image_id)\n",
    "\n",
    "# Define our augmentation pipeline.\n",
    "seq = iaa.Sequential([\n",
    "        iaa.AdditiveGaussianNoise(scale=0.01 * 255, name=\"AWGN\"),\n",
    "        iaa.GaussianBlur(sigma=(0.0, 3.0), name=\"Blur\"),\n",
    "        # iaa.Dropout([0.0, 0.05], name='Dropout'), # drop 0-5% of all pixels\n",
    "        iaa.Fliplr(0.5),\n",
    "        iaa.Add((-20, 20),name=\"Add\"),\n",
    "        iaa.Multiply((0.8, 1.2), name=\"Multiply\"),\n",
    "#       iaa.Affine(scale=(0.8, 1.1)),\n",
    "#       iaa.Affine(translate_percent={\"x\": (-0.2, 0.2), \"y\": (-0.2, 0.2)}),\n",
    "        iaa.Affine(rotate=(-45, 45)),  # rotate by -45 to 45 degrees\n",
    "    ], random_order=True)\n",
    "\n",
    "# Change activated augmentors for masks\n",
    "def activator_masks(images, augmenter, parents, default):\n",
    "    if augmenter.name in [\"Blur\", \"AWGN\", \"Add\",\"Multiply\"]:\n",
    "        return False\n",
    "    else:\n",
    "        # default value for all other augmenters\n",
    "        return default\n",
    "    \n",
    "hooks_masks = ia.HooksImages(activator=activator_masks)\n",
    "\n",
    "# Initialize the matplotlib figure\n",
    "fig, aux = plt.subplots(ncols=2, nrows=nr_augmentations+1, figsize=(15,60))\n",
    "\n",
    "aux[0,0].imshow(image)\n",
    "aux[0,0].axis('off')\n",
    "aux[0,1].imshow(masks.sum(axis=2)) # form an unique segmask from multiple masks\n",
    "aux[0,1].axis('off')\n",
    "\n",
    "print('This may take some time, as we are working with the original image size...')\n",
    "\n",
    "# Augment images and masks\n",
    "for i in range(nr_augmentations):\n",
    "    seq_det = seq.to_deterministic()\n",
    "    image_augmented = seq_det.augment_image(image)\n",
    "    mask_augmented = seq_det.augment_image(masks.astype(np.uint8), hooks=hooks_masks)\n",
    "    seg_mask = mask_augmented.sum(axis=2)\n",
    "\n",
    "    aux[i+1,0].imshow(image_augmented)\n",
    "    aux[i+1,0].axis('off')\n",
    "    aux[i+1,1].imshow(seg_mask)\n",
    "    aux[i+1,1].axis('off')\n",
    "    \n",
    "plt.subplots_adjust(wspace=0.2, hspace=0)"
   ]
  },
  {
   "cell_type": "markdown",
   "metadata": {},
   "source": [
    "## Display Samples\n",
    "\n",
    "Load and display images and masks."
   ]
  },
  {
   "cell_type": "code",
   "execution_count": 17,
   "metadata": {},
   "outputs": [],
   "source": [
    "# Load and display random samples\n",
    "image_ids = np.random.choice(dataset.image_ids, 4)\n",
    "for image_id in image_ids:\n",
    "    image = dataset.load_image(image_id)\n",
    "    mask, class_ids = dataset.load_mask(image_id)\n",
    "    visualize.display_top_masks(image, mask, class_ids, dataset.class_names)"
   ]
  },
  {
   "cell_type": "markdown",
   "metadata": {},
   "source": [
    "## Bounding Boxes\n",
    "\n",
    "Rather than using bounding box coordinates provided by the source datasets, we compute the bounding boxes from masks instead. This allows us to handle bounding boxes consistently regardless of the source dataset, and it also makes it easier to resize, rotate, or crop images because we simply generate the bounding boxes from the updates masks rather than computing bounding box transformation for each type of image transformation."
   ]
  },
  {
   "cell_type": "code",
   "execution_count": null,
   "metadata": {},
   "outputs": [],
   "source": []
  },
  {
   "cell_type": "markdown",
   "metadata": {},
   "source": [
    "## Resize Images\n",
    "\n",
    "To support multiple images per batch, images are resized to one size (1024x1024). Aspect ratio is preserved, though. If an image is not square, then zero padding is added at the top/bottom or right/left."
   ]
  },
  {
   "cell_type": "code",
   "execution_count": 20,
   "metadata": {},
   "outputs": [
    {
     "name": "stdout",
     "output_type": "stream",
     "text": [
      "[1 1 1]\n",
      "image_id  1244 \n",
      "image                    shape: (3264, 2448, 3)       min:    0.00000  max:  255.00000  uint8\n"
     ]
    }
   ],
   "source": [
    "# Load random image and mask.\n",
    "image_id = random.choice(dataset.image_ids)\n",
    "image = dataset.load_image(image_id)\n",
    "mask, class_ids = dataset.load_mask(image_id)\n",
    "print(class_ids)\n",
    "# Compute Bounding box\n",
    "bbox = utils.extract_bboxes(mask)\n",
    "\n",
    "# Display image and additional stats\n",
    "print(\"image_id \", image_id, dataset.image_reference(image_id))\n",
    "log(\"image\", image)\n",
    "# log(\"mask\", mask)\n",
    "# log(\"class_ids\", class_ids)\n",
    "# log(\"bbox\", bbox)\n",
    "# Display image and instances\n",
    "visualize.display_instances(image, bbox, mask, class_ids, dataset.class_names)"
   ]
  },
  {
   "cell_type": "code",
   "execution_count": 25,
   "metadata": {},
   "outputs": [
    {
     "ename": "SyntaxError",
     "evalue": "invalid syntax (<ipython-input-25-75e111c9c69b>, line 4)",
     "output_type": "error",
     "traceback": [
      "\u001b[1;36m  File \u001b[1;32m\"<ipython-input-25-75e111c9c69b>\"\u001b[1;36m, line \u001b[1;32m4\u001b[0m\n\u001b[1;33m    from matplotlib import pyplot as plt.\u001b[0m\n\u001b[1;37m                                        ^\u001b[0m\n\u001b[1;31mSyntaxError\u001b[0m\u001b[1;31m:\u001b[0m invalid syntax\n"
     ]
    }
   ],
   "source": [
    "# Load random image and mask\n",
    "\n",
    "image_id = np.random.choice(dataset.image_ids, 1)[0]\n",
    "image = dataset.load_image(image_id)\n",
    "mask, class_ids = dataset.load_mask(image_id)\n",
    "original_shape = image.shape\n",
    "# Resize\n",
    "image, window, scale, padding, _ = utils.resize_image(\n",
    "    image, \n",
    "    min_dim=config.IMAGE_MIN_DIM, \n",
    "    max_dim=config.IMAGE_MAX_DIM,\n",
    "    mode=config.IMAGE_RESIZE_MODE)\n",
    "mask = utils.resize_mask(mask, scale, padding)\n",
    "# Compute Bounding box\n",
    "bbox = utils.extract_bboxes(mask)\n",
    "\n",
    "# Display image and additional stats\n",
    "print(\"image_id: \", image_id, dataset.image_reference(image_id))\n",
    "print(\"Original shape: \", original_shape)\n",
    "log(\"image\", image)\n",
    "log(\"mask\", mask)\n",
    "log(\"class_ids\", class_ids)\n",
    "log(\"bbox\", bbox)\n",
    "# Display image and instances\n",
    "visualize.display_instances(image, bbox, mask, class_ids, dataset.class_names)"
   ]
  },
  {
   "cell_type": "markdown",
   "metadata": {},
   "source": [
    "## Mini Masks\n",
    "\n",
    "Instance binary masks can get large when training with high resolution images. For example, if training with 1024x1024 image then the mask of a single instance requires 1MB of memory (Numpy uses bytes for boolean values). If an image has 100 instances then that's 100MB for the masks alone. \n",
    "\n",
    "To improve training speed, we optimize masks by:\n",
    "* We store mask pixels that are inside the object bounding box, rather than a mask of the full image. Most objects are small compared to the image size, so we save space by not storing a lot of zeros around the object.\n",
    "* We resize the mask to a smaller size (e.g. 56x56). For objects that are larger than the selected size we lose a bit of accuracy. But most object annotations are not very accuracy to begin with, so this loss is negligable for most practical purposes. Thie size of the mini_mask can be set in the config class.\n",
    "\n",
    "To visualize the effect of mask resizing, and to verify the code correctness, we visualize some examples."
   ]
  },
  {
   "cell_type": "code",
   "execution_count": 13,
   "metadata": {},
   "outputs": [
    {
     "name": "stderr",
     "output_type": "stream",
     "text": [
      "E:\\TACO_master\\detector\\visualize.py:60: UserWarning: Matplotlib is currently using agg, which is a non-GUI backend, so cannot show the figure.\n",
      "  plt.show()\n",
      "C:\\Users\\dus16\\anaconda3\\envs\\env1\\lib\\site-packages\\skimage\\transform\\_warps.py:830: FutureWarning: Input image dtype is bool. Interpolation is not defined with bool data type. Please set order to 0 or explicitely cast input image to another data type. Starting from version 0.19 a ValueError will be raised instead of this warning.\n",
      "  order = _validate_interpolation_order(image.dtype, order)\n",
      "E:\\TACO_master\\detector\\visualize.py:60: UserWarning: Matplotlib is currently using agg, which is a non-GUI backend, so cannot show the figure.\n",
      "  plt.show()\n"
     ]
    },
    {
     "name": "stdout",
     "output_type": "stream",
     "text": [
      "image                    shape: (1024, 1024, 3)       min:    0.00000  max:  254.00000  uint8\n",
      "image_meta               shape: (14,)                 min:    0.00000  max: 5312.00000  float64\n",
      "class_ids                shape: (1,)                  min:    1.00000  max:    1.00000  int32\n",
      "bbox                     shape: (1, 4)                min:  233.00000  max:  684.00000  int32\n",
      "mask                     shape: (512, 512, 1)         min:    0.00000  max:    1.00000  bool\n"
     ]
    }
   ],
   "source": [
    "image_id = np.random.choice(dataset.image_ids, 1)[0]\n",
    "image, image_meta, class_ids, bbox, mask = modellib.load_image_gt(\n",
    "    dataset, config, image_id, use_mini_mask=False)\n",
    "\n",
    "display_images([image]+[mask[:,:,i] for i in range(min(mask.shape[-1], 7))])\n",
    "\n",
    "image, image_meta, class_ids, bbox, mask = modellib.load_image_gt(\n",
    "    dataset, config, image_id, use_mini_mask=True)\n",
    "\n",
    "log(\"image\", image)\n",
    "log(\"image_meta\", image_meta)\n",
    "log(\"class_ids\", class_ids)\n",
    "log(\"bbox\", bbox)\n",
    "log(\"mask\", mask)\n",
    "\n",
    "display_images([image]+[mask[:,:,i] for i in range(min(mask.shape[-1], 7))])"
   ]
  },
  {
   "cell_type": "code",
   "execution_count": 14,
   "metadata": {},
   "outputs": [
    {
     "ename": "ValueError",
     "evalue": "operands could not be broadcast together with shapes (512,512) (1024,1024) (1024,1024) ",
     "output_type": "error",
     "traceback": [
      "\u001b[1;31m---------------------------------------------------------------------------\u001b[0m",
      "\u001b[1;31mValueError\u001b[0m                                Traceback (most recent call last)",
      "\u001b[1;32m<ipython-input-14-46f0a2fee53f>\u001b[0m in \u001b[0;36m<module>\u001b[1;34m\u001b[0m\n\u001b[1;32m----> 1\u001b[1;33m \u001b[0mvisualize\u001b[0m\u001b[1;33m.\u001b[0m\u001b[0mdisplay_instances\u001b[0m\u001b[1;33m(\u001b[0m\u001b[0mimage\u001b[0m\u001b[1;33m,\u001b[0m \u001b[0mbbox\u001b[0m\u001b[1;33m,\u001b[0m \u001b[0mmask\u001b[0m\u001b[1;33m,\u001b[0m \u001b[0mclass_ids\u001b[0m\u001b[1;33m,\u001b[0m \u001b[0mdataset\u001b[0m\u001b[1;33m.\u001b[0m\u001b[0mclass_names\u001b[0m\u001b[1;33m)\u001b[0m\u001b[1;33m\u001b[0m\u001b[1;33m\u001b[0m\u001b[0m\n\u001b[0m",
      "\u001b[1;32mE:\\TACO_master\\detector\\visualize.py\u001b[0m in \u001b[0;36mdisplay_instances\u001b[1;34m(image, boxes, masks, class_ids, class_names, scores, title, figsize, ax, show_mask, show_bbox, colors, captions)\u001b[0m\n\u001b[0;32m    155\u001b[0m         \u001b[0mmask\u001b[0m \u001b[1;33m=\u001b[0m \u001b[0mmasks\u001b[0m\u001b[1;33m[\u001b[0m\u001b[1;33m:\u001b[0m\u001b[1;33m,\u001b[0m \u001b[1;33m:\u001b[0m\u001b[1;33m,\u001b[0m \u001b[0mi\u001b[0m\u001b[1;33m]\u001b[0m\u001b[1;33m\u001b[0m\u001b[1;33m\u001b[0m\u001b[0m\n\u001b[0;32m    156\u001b[0m         \u001b[1;32mif\u001b[0m \u001b[0mshow_mask\u001b[0m\u001b[1;33m:\u001b[0m\u001b[1;33m\u001b[0m\u001b[1;33m\u001b[0m\u001b[0m\n\u001b[1;32m--> 157\u001b[1;33m             \u001b[0mmasked_image\u001b[0m \u001b[1;33m=\u001b[0m \u001b[0mapply_mask\u001b[0m\u001b[1;33m(\u001b[0m\u001b[0mmasked_image\u001b[0m\u001b[1;33m,\u001b[0m \u001b[0mmask\u001b[0m\u001b[1;33m,\u001b[0m \u001b[0mcolor\u001b[0m\u001b[1;33m)\u001b[0m\u001b[1;33m\u001b[0m\u001b[1;33m\u001b[0m\u001b[0m\n\u001b[0m\u001b[0;32m    158\u001b[0m \u001b[1;33m\u001b[0m\u001b[0m\n\u001b[0;32m    159\u001b[0m         \u001b[1;31m# Mask Polygon\u001b[0m\u001b[1;33m\u001b[0m\u001b[1;33m\u001b[0m\u001b[1;33m\u001b[0m\u001b[0m\n",
      "\u001b[1;32mE:\\TACO_master\\detector\\visualize.py\u001b[0m in \u001b[0;36mapply_mask\u001b[1;34m(image, mask, color, alpha)\u001b[0m\n\u001b[0;32m     81\u001b[0m                                   \u001b[0mimage\u001b[0m\u001b[1;33m[\u001b[0m\u001b[1;33m:\u001b[0m\u001b[1;33m,\u001b[0m \u001b[1;33m:\u001b[0m\u001b[1;33m,\u001b[0m \u001b[0mc\u001b[0m\u001b[1;33m]\u001b[0m \u001b[1;33m*\u001b[0m\u001b[1;33m\u001b[0m\u001b[1;33m\u001b[0m\u001b[0m\n\u001b[0;32m     82\u001b[0m                                   \u001b[1;33m(\u001b[0m\u001b[1;36m1\u001b[0m \u001b[1;33m-\u001b[0m \u001b[0malpha\u001b[0m\u001b[1;33m)\u001b[0m \u001b[1;33m+\u001b[0m \u001b[0malpha\u001b[0m \u001b[1;33m*\u001b[0m \u001b[0mcolor\u001b[0m\u001b[1;33m[\u001b[0m\u001b[0mc\u001b[0m\u001b[1;33m]\u001b[0m \u001b[1;33m*\u001b[0m \u001b[1;36m255\u001b[0m\u001b[1;33m,\u001b[0m\u001b[1;33m\u001b[0m\u001b[1;33m\u001b[0m\u001b[0m\n\u001b[1;32m---> 83\u001b[1;33m                                   image[:, :, c])\n\u001b[0m\u001b[0;32m     84\u001b[0m     \u001b[1;32mreturn\u001b[0m \u001b[0mimage\u001b[0m\u001b[1;33m\u001b[0m\u001b[1;33m\u001b[0m\u001b[0m\n\u001b[0;32m     85\u001b[0m \u001b[1;33m\u001b[0m\u001b[0m\n",
      "\u001b[1;32m<__array_function__ internals>\u001b[0m in \u001b[0;36mwhere\u001b[1;34m(*args, **kwargs)\u001b[0m\n",
      "\u001b[1;31mValueError\u001b[0m: operands could not be broadcast together with shapes (512,512) (1024,1024) (1024,1024) "
     ]
    }
   ],
   "source": [
    "visualize.display_instances(image, bbox, mask, class_ids, dataset.class_names)"
   ]
  },
  {
   "cell_type": "code",
   "execution_count": null,
   "metadata": {},
   "outputs": [],
   "source": [
    "# Add augmentation and mask resizing.\n",
    "\n",
    "# Image Augmentation Pipeline\n",
    "aug_pipeline = iaa.Sequential([\n",
    "    iaa.AdditiveGaussianNoise(scale=0.01 * 255, name=\"AWGN\"),\n",
    "    iaa.GaussianBlur(sigma=(0.0, 3.0), name=\"Blur\"),\n",
    "    # iaa.Dropout([0.0, 0.05], name='Dropout'), # drop 0-5% of all pixels\n",
    "    iaa.Fliplr(0.5),\n",
    "    iaa.Add((-20, 20),name=\"Add\"),\n",
    "    iaa.Multiply((0.8, 1.2), name=\"Multiply\"),\n",
    "    iaa.Affine(scale=(0.8, 2.0)),\n",
    "    iaa.Affine(translate_percent={\"x\": (-0.2, 0.2), \"y\": (-0.2, 0.2)}),\n",
    "    iaa.Affine(rotate=(-45, 45)),  # rotate by -45 to 45 degrees\n",
    "], random_order=True)\n",
    "    \n",
    "image, image_meta, class_ids, bbox, mask = modellib.load_image_gt(\n",
    "    dataset, config, image_id, aug_pipeline, use_mini_mask=False)\n",
    "log(\"mask\", mask)\n",
    "display_images([image]+[mask[:,:,i] for i in range(min(mask.shape[-1], 7))])"
   ]
  },
  {
   "cell_type": "code",
   "execution_count": null,
   "metadata": {},
   "outputs": [],
   "source": [
    "mask = utils.expand_mask(bbox, mask, image.shape)\n",
    "visualize.display_instances(image, bbox, mask, class_ids, dataset.class_names)"
   ]
  },
  {
   "cell_type": "markdown",
   "metadata": {},
   "source": [
    "## Anchors\n",
    "\n",
    "The order of anchors is important. Use the same order in training and prediction phases. And it must match the order of the convolution execution.\n",
    "\n",
    "For an FPN network, the anchors must be ordered in a way that makes it easy to match anchors to the output of the convolution layers that predict anchor scores and shifts. \n",
    "* Sort by pyramid level first. All anchors of the first level, then all of the second and so on. This makes it easier to separate anchors by level.\n",
    "* Within each level, sort anchors by feature map processing sequence. Typically, a convolution layer processes a feature map starting from top-left and moving right row by row. \n",
    "* For each feature map cell, pick any sorting order for the anchors of different ratios. Here we match the order of ratios passed to the function.\n",
    "\n",
    "**Anchor Stride:**\n",
    "In the FPN architecture, feature maps at the first few layers are high resolution. For example, if the input image is 1024x1024 then the feature map of the first layer is 256x256, which generates about 200K anchors (256*256*3). These anchors are 32x32 pixels and their stride relative to image pixels is 4 pixels, so there is a lot of overlap. We can reduce the load significantly if we generate anchors for every other cell in the feature map. A stride of 2 will cut the number of anchors by 4, for example. \n",
    "\n",
    "In this implementation we use an anchor stride of 2, which is different from the paper."
   ]
  },
  {
   "cell_type": "code",
   "execution_count": null,
   "metadata": {},
   "outputs": [],
   "source": [
    "# Generate Anchors\n",
    "backbone_shapes = modellib.compute_backbone_shapes(config, config.IMAGE_SHAPE)\n",
    "anchors = utils.generate_pyramid_anchors(config.RPN_ANCHOR_SCALES, \n",
    "                                          config.RPN_ANCHOR_RATIOS,\n",
    "                                          backbone_shapes,\n",
    "                                          config.BACKBONE_STRIDES, \n",
    "                                          config.RPN_ANCHOR_STRIDE)\n",
    "\n",
    "print(backbone_shapes)\n",
    "# Print summary of anchors\n",
    "num_levels = len(backbone_shapes)\n",
    "anchors_per_cell = len(config.RPN_ANCHOR_RATIOS)\n",
    "print(\"Count: \", anchors.shape[0])\n",
    "print(\"Scales: \", config.RPN_ANCHOR_SCALES)\n",
    "print(\"ratios: \", config.RPN_ANCHOR_RATIOS)\n",
    "print(\"Anchors per Cell: \", anchors_per_cell)\n",
    "print(\"Levels: \", num_levels)\n",
    "anchors_per_level = []\n",
    "for l in range(num_levels):\n",
    "    num_cells = backbone_shapes[l][0] * backbone_shapes[l][1]\n",
    "    anchors_per_level.append(anchors_per_cell * num_cells // config.RPN_ANCHOR_STRIDE**2)\n",
    "    print(\"Anchors in Level {}: {}\".format(l, anchors_per_level[l]))"
   ]
  },
  {
   "cell_type": "markdown",
   "metadata": {},
   "source": [
    "Visualize anchors of one cell at the center of the feature map of a specific level."
   ]
  },
  {
   "cell_type": "code",
   "execution_count": null,
   "metadata": {},
   "outputs": [],
   "source": [
    "## Visualize anchors of one cell at the center of the feature map of a specific level\n",
    "\n",
    "# Load and draw random image\n",
    "image_id = np.random.choice(dataset.image_ids, 1)[0]\n",
    "image, image_meta, _, _, _ = modellib.load_image_gt(dataset, config, image_id)\n",
    "fig, ax = plt.subplots(1, figsize=(10, 10))\n",
    "ax.imshow(image)\n",
    "levels = len(backbone_shapes)\n",
    "\n",
    "for level in range(levels):\n",
    "    colors = visualize.random_colors(levels)\n",
    "    # Compute the index of the anchors at the center of the image\n",
    "    level_start = sum(anchors_per_level[:level]) # sum of anchors of previous levels\n",
    "    level_anchors = anchors[level_start:level_start+anchors_per_level[level]]\n",
    "    print(\"Level {}. Anchors: {:6}  Feature map Shape: {}\".format(level, level_anchors.shape[0], \n",
    "                                                                  backbone_shapes[level]))\n",
    "    center_cell = backbone_shapes[level] // 2\n",
    "    center_cell_index = (center_cell[0] * backbone_shapes[level][1] + center_cell[1])\n",
    "    level_center = center_cell_index * anchors_per_cell \n",
    "    center_anchor = anchors_per_cell * (\n",
    "        (center_cell[0] * backbone_shapes[level][1] / config.RPN_ANCHOR_STRIDE**2) \\\n",
    "        + center_cell[1] / config.RPN_ANCHOR_STRIDE)\n",
    "#     level_center = int(center_anchor)\n",
    "    # Draw anchors. Brightness show the order in the array, dark to bright.\n",
    "    for i, rect in enumerate(level_anchors[level_center:level_center+anchors_per_cell]):\n",
    "        y1, x1, y2, x2 = rect\n",
    "        p = patches.Rectangle((x1, y1), x2-x1, y2-y1, linewidth=2, facecolor='none',\n",
    "                              edgecolor=(i+1)*np.array(colors[level]) / anchors_per_cell)\n",
    "        ax.add_patch(p)\n",
    "        print(rect)\n"
   ]
  },
  {
   "cell_type": "markdown",
   "metadata": {},
   "source": [
    "## Data Generator\n"
   ]
  },
  {
   "cell_type": "code",
   "execution_count": null,
   "metadata": {},
   "outputs": [],
   "source": [
    "# Create data generator\n",
    "random_rois = 2000\n",
    "g = modellib.data_generator(\n",
    "    dataset, config, shuffle=True, random_rois=random_rois, \n",
    "    batch_size=4,\n",
    "    detection_targets=True)"
   ]
  },
  {
   "cell_type": "code",
   "execution_count": null,
   "metadata": {
    "scrolled": true
   },
   "outputs": [],
   "source": [
    "# Uncomment to run the generator through a lot of images\n",
    "# to catch rare errors\n",
    "for i in range(10):\n",
    "    print(i)\n",
    "    _, _ = next(g)"
   ]
  },
  {
   "cell_type": "code",
   "execution_count": null,
   "metadata": {},
   "outputs": [],
   "source": [
    "# Get Next Image\n",
    "if random_rois:\n",
    "    [normalized_images, image_meta, rpn_match, rpn_bbox, gt_class_ids, gt_boxes, gt_masks, rpn_rois, rois], \\\n",
    "    [mrcnn_class_ids, mrcnn_bbox, mrcnn_mask] = next(g)\n",
    "    \n",
    "    log(\"rois\", rois)\n",
    "    log(\"mrcnn_class_ids\", mrcnn_class_ids)\n",
    "    log(\"mrcnn_bbox\", mrcnn_bbox)\n",
    "    log(\"mrcnn_mask\", mrcnn_mask)\n",
    "else:\n",
    "    [normalized_images, image_meta, rpn_match, rpn_bbox, gt_boxes, gt_masks], _ = next(g)\n",
    "    \n",
    "log(\"gt_class_ids\", gt_class_ids)\n",
    "log(\"gt_boxes\", gt_boxes)\n",
    "log(\"gt_masks\", gt_masks)\n",
    "log(\"rpn_match\", rpn_match, )\n",
    "log(\"rpn_bbox\", rpn_bbox)\n",
    "image_id = modellib.parse_image_meta(image_meta)[\"image_id\"][0]\n",
    "print(\"image_id: \", image_id, dataset.image_reference(image_id))\n",
    "\n",
    "# Remove the last dim in mrcnn_class_ids. It's only added\n",
    "# to satisfy Keras restriction on target shape.\n",
    "mrcnn_class_ids = mrcnn_class_ids[:,:,0]"
   ]
  },
  {
   "cell_type": "code",
   "execution_count": null,
   "metadata": {},
   "outputs": [],
   "source": [
    "b = 0\n",
    "\n",
    "# Restore original image (reverse normalization)\n",
    "sample_image = modellib.unmold_image(normalized_images[b], config)\n",
    "\n",
    "# Compute anchor shifts.\n",
    "indices = np.where(rpn_match[b] == 1)[0]\n",
    "refined_anchors = utils.apply_box_deltas(anchors[indices], rpn_bbox[b, :len(indices)] * config.RPN_BBOX_STD_DEV)\n",
    "log(\"anchors\", anchors)\n",
    "log(\"refined_anchors\", refined_anchors)\n",
    "\n",
    "# Get list of positive anchors\n",
    "positive_anchor_ids = np.where(rpn_match[b] == 1)[0]\n",
    "print(\"Positive anchors: {}\".format(len(positive_anchor_ids)))\n",
    "negative_anchor_ids = np.where(rpn_match[b] == -1)[0]\n",
    "print(\"Negative anchors: {}\".format(len(negative_anchor_ids)))\n",
    "neutral_anchor_ids = np.where(rpn_match[b] == 0)[0]\n",
    "print(\"Neutral anchors: {}\".format(len(neutral_anchor_ids)))\n",
    "\n",
    "# ROI breakdown by class\n",
    "for c, n in zip(dataset.class_names, np.bincount(mrcnn_class_ids[b].flatten())):\n",
    "    if n:\n",
    "        print(\"{:23}: {}\".format(c[:20], n))\n",
    "\n",
    "# Show positive anchors\n",
    "visualize.draw_boxes(sample_image, boxes=anchors[positive_anchor_ids], \n",
    "                     refined_boxes=refined_anchors)"
   ]
  },
  {
   "cell_type": "code",
   "execution_count": null,
   "metadata": {},
   "outputs": [],
   "source": [
    "# Show negative anchors\n",
    "import visualize\n",
    "visualize.draw_boxes(sample_image, boxes=anchors[negative_anchor_ids])"
   ]
  },
  {
   "cell_type": "code",
   "execution_count": null,
   "metadata": {},
   "outputs": [],
   "source": [
    "# Show neutral anchors. They don't contribute to training.\n",
    "visualize.draw_boxes(sample_image, boxes=anchors[np.random.choice(neutral_anchor_ids, 100)])"
   ]
  },
  {
   "cell_type": "markdown",
   "metadata": {},
   "source": [
    "## ROIs"
   ]
  },
  {
   "cell_type": "code",
   "execution_count": null,
   "metadata": {},
   "outputs": [],
   "source": [
    "if random_rois:\n",
    "    # Class aware bboxes\n",
    "    bbox_specific = mrcnn_bbox[b, np.arange(mrcnn_bbox.shape[1]), mrcnn_class_ids[b], :]\n",
    "\n",
    "    # Refined ROIs\n",
    "    refined_rois = utils.apply_box_deltas(rois[b].astype(np.float32), bbox_specific[:,:4] * config.BBOX_STD_DEV)\n",
    "\n",
    "    # Class aware masks\n",
    "    mask_specific = mrcnn_mask[b, np.arange(mrcnn_mask.shape[1]), :, :, mrcnn_class_ids[b]]\n",
    "\n",
    "    visualize.draw_rois(sample_image, rois[b], refined_rois, mask_specific, mrcnn_class_ids[b], dataset.class_names)\n",
    "    \n",
    "    # Any repeated ROIs?\n",
    "    rows = np.ascontiguousarray(rois[b]).view(np.dtype((np.void, rois.dtype.itemsize * rois.shape[-1])))\n",
    "    _, idx = np.unique(rows, return_index=True)\n",
    "    print(\"Unique ROIs: {} out of {}\".format(len(idx), rois.shape[1]))"
   ]
  },
  {
   "cell_type": "code",
   "execution_count": null,
   "metadata": {},
   "outputs": [],
   "source": [
    "if random_rois:\n",
    "    # Dispalay ROIs and corresponding masks and bounding boxes\n",
    "    ids = random.sample(range(rois.shape[1]), 8)\n",
    "\n",
    "    images = []\n",
    "    titles = []\n",
    "    for i in ids:\n",
    "        image = visualize.draw_box(sample_image.copy(), rois[b,i,:4].astype(np.int32), [255, 0, 0])\n",
    "        image = visualize.draw_box(image, refined_rois[i].astype(np.int64), [0, 255, 0])\n",
    "        images.append(image)\n",
    "        titles.append(\"ROI {}\".format(i))\n",
    "        images.append(mask_specific[i] * 255)\n",
    "        titles.append(dataset.class_names[mrcnn_class_ids[b,i]][:20])\n",
    "\n",
    "    display_images(images, titles, cols=4, cmap=\"Blues\", interpolation=\"none\")"
   ]
  },
  {
   "cell_type": "code",
   "execution_count": null,
   "metadata": {},
   "outputs": [],
   "source": [
    "# Check ratio of positive ROIs in a set of images.\n",
    "if random_rois:\n",
    "    limit = 10\n",
    "    temp_g = modellib.data_generator(\n",
    "        dataset, config, shuffle=True, random_rois=10000, \n",
    "        batch_size=1, detection_targets=True)\n",
    "    total = 0\n",
    "    for i in range(limit):\n",
    "        _, [ids, _, _] = next(temp_g)\n",
    "        positive_rois = np.sum(ids[0] > 0)\n",
    "        total += positive_rois\n",
    "        print(\"{:5} {:5.2f}\".format(positive_rois, positive_rois/ids.shape[1]))\n",
    "    print(\"Average percent: {:.2f}\".format(total/(limit*ids.shape[1])))"
   ]
  },
  {
   "cell_type": "code",
   "execution_count": null,
   "metadata": {
    "collapsed": true,
    "jupyter": {
     "outputs_hidden": true
    }
   },
   "outputs": [],
   "source": []
  }
 ],
 "metadata": {
  "kernelspec": {
   "display_name": "Python 3",
   "language": "python",
   "name": "python3"
  },
  "language_info": {
   "codemirror_mode": {
    "name": "ipython",
    "version": 3
   },
   "file_extension": ".py",
   "mimetype": "text/x-python",
   "name": "python",
   "nbconvert_exporter": "python",
   "pygments_lexer": "ipython3",
   "version": "3.6.12"
  }
 },
 "nbformat": 4,
 "nbformat_minor": 4
}
